{
 "cells": [
  {
   "cell_type": "code",
   "execution_count": 2,
   "metadata": {},
   "outputs": [],
   "source": [
    "import warnings\n",
    "warnings.filterwarnings(\"ignore\")"
   ]
  },
  {
   "cell_type": "code",
   "execution_count": 3,
   "metadata": {},
   "outputs": [],
   "source": [
    "import pandas as pd\n",
    "import numpy as np\n",
    "from sklearn.model_selection import train_test_split\n",
    "import lightgbm\n",
    "from sklearn.model_selection import RandomizedSearchCV, GridSearchCV\n",
    "from sklearn.pipeline import Pipeline\n",
    "from sklearn.feature_selection import SelectFromModel\n",
    "from sklearn.svm import LinearSVR\n",
    "from sklearn.ensemble import RandomForestRegressor, RandomForestClassifier, VotingClassifier\n",
    "from sklearn import metrics\n",
    "import matplotlib.pyplot as plt\n",
    "from sklearn.svm import LinearSVC\n",
    "from sklearn.preprocessing import StandardScaler\n",
    "from sklearn.calibration import CalibratedClassifierCV\n",
    "from sklearn.linear_model import LogisticRegression\n",
    "from sklearn.ensemble import AdaBoostClassifier\n",
    "from sklearn.naive_bayes import MultinomialNB\n",
    "from sklearn.neighbors import KNeighborsClassifier\n",
    "from sklearn.tree import DecisionTreeClassifier\n",
    "from sklearn.pipeline import make_pipeline\n",
    "import seaborn as sns\n",
    "from imblearn.over_sampling import SMOTE, ADASYN\n",
    "import xgboost"
   ]
  },
  {
   "cell_type": "code",
   "execution_count": 4,
   "metadata": {},
   "outputs": [],
   "source": [
    "from imblearn.over_sampling import RandomOverSampler\n",
    "from imblearn.under_sampling import RandomUnderSampler"
   ]
  },
  {
   "cell_type": "code",
   "execution_count": 5,
   "metadata": {},
   "outputs": [],
   "source": [
    "training_data = pd.read_csv('train_final.csv')\n",
    "test_data = pd.read_csv('test_final.csv')"
   ]
  },
  {
   "cell_type": "code",
   "execution_count": 6,
   "metadata": {},
   "outputs": [
    {
     "data": {
      "text/plain": [
       "Index(['Id', 'Y', 'f1', 'f2', 'f3', 'f4', 'f5', 'f6', 'f7', 'f8', 'f9', 'f10',\n",
       "       'f11', 'f12', 'f13', 'f14', 'f15', 'f16', 'f17', 'f18', 'f19', 'f20',\n",
       "       'f21', 'f22', 'f23', 'f24'],\n",
       "      dtype='object')"
      ]
     },
     "execution_count": 6,
     "metadata": {},
     "output_type": "execute_result"
    }
   ],
   "source": [
    "training_data.columns"
   ]
  },
  {
   "cell_type": "code",
   "execution_count": 7,
   "metadata": {},
   "outputs": [
    {
     "data": {
      "text/plain": [
       "<matplotlib.axes._subplots.AxesSubplot at 0x2e5bb5eee08>"
      ]
     },
     "execution_count": 7,
     "metadata": {},
     "output_type": "execute_result"
    },
    {
     "data": {
      "image/png": "[encoded data removed]",
      "text/plain": [
       "<Figure size 432x288 with 1 Axes>"
      ]
     },
     "metadata": {
      "needs_background": "light"
     },
     "output_type": "display_data"
    }
   ],
   "source": [
    "sns.scatterplot(data=training_data, x='f24', y=\"Y\")"
   ]
  },
  {
   "cell_type": "code",
   "execution_count": 8,
   "metadata": {},
   "outputs": [],
   "source": [
    "# this way is splitting training data to train/test to see how good it is\n",
    "X = training_data.drop(['Y', 'Id'],axis=1)\n",
    "y = training_data['Y']\n",
    "\n",
    "x_train, x_test, y_train, y_test = train_test_split(X, y, train_size=.75, random_state=4)\n",
    "ros = RandomOverSampler()\n",
    "x_train, y_train = ros.fit_resample(x_train, y_train)"
   ]
  },
  {
   "cell_type": "code",
   "execution_count": 25,
   "metadata": {},
   "outputs": [],
   "source": [
    "# this way is having all train data as train and test on seperate test data to submit\n",
    "fx_train = training_data.drop(['Y', 'Id'],axis=1)\n",
    "fy_train = training_data['Y']\n",
    "ros = RandomOverSampler()\n",
    "fx_train, fy_train = ros.fit_resample(fx_train, fy_train)\n",
    "fx_test = test_data.drop('Id',axis=1)"
   ]
  },
  {
   "cell_type": "code",
   "execution_count": null,
   "metadata": {},
   "outputs": [],
   "source": [
    "#normalizing data - didnt work\n",
    "n = x_train.nunique(axis=0)\n",
    "nums = n[n>9].index\n",
    "nums\n",
    "x_train[nums] = x_train[nums].apply(lambda x: (x - x.mean()) / (x.std()))\n",
    "x_test[nums] = x_test[nums].apply(lambda x: (x - x.mean()) / (x.std()))"
   ]
  },
  {
   "cell_type": "code",
   "execution_count": null,
   "metadata": {},
   "outputs": [],
   "source": [
    "cf=lightgbm.LGBMClassifier(verbose=1)\n",
    "parameters = {'n_estimators': np.linspace(400, 600, 20, dtype=int),               \n",
    "                                                      #'max_depth': [10,20,30,40,50,60,70,80,90,100],              \n",
    "                                                      'num_leaves': np.arange(40,60),\n",
    "                                                      'learning_rate': [0.1], 'min_data_in_leaf':[1] }\n",
    "#                                                     'bagging_fraction': [0.1,0.3,0.4,0.5,0.7,0.8,1],\n",
    "#                                                     'min_data_in_leaf': [10,20,30,50,70,100]\n",
    "#                                                      ,'max_bin':[100,200,300,400], 'extra_trees':[False]}         \n",
    "                                                      #'min_gain_to_split':[1,10,100,1000]}\n",
    "clf_GS = RandomizedSearchCV(cf,parameters,n_iter=100,n_jobs=-1).fit(x_train,y_train) "
   ]
  },
  {
   "cell_type": "code",
   "execution_count": null,
   "metadata": {
    "scrolled": false
   },
   "outputs": [],
   "source": [
    "clf_GS.best_params_"
   ]
  },
  {
   "cell_type": "code",
   "execution_count": null,
   "metadata": {},
   "outputs": [],
   "source": [
    "#only when working with training data\n",
    "accuracy = clf_GS.score(x_test,y_test)\n",
    "accuracy"
   ]
  },
  {
   "cell_type": "code",
   "execution_count": null,
   "metadata": {},
   "outputs": [],
   "source": [
    "y = clf_GS.predict_proba(x_test)[:,1]\n",
    "y"
   ]
  },
  {
   "cell_type": "code",
   "execution_count": null,
   "metadata": {},
   "outputs": [],
   "source": [
    "score = metrics.roc_auc_score(y_test, y)\n",
    "score"
   ]
  },
  {
   "cell_type": "code",
   "execution_count": null,
   "metadata": {},
   "outputs": [],
   "source": [
    "finalcf = lightgbm.LGBMClassifier(num_leaves=51,n_estimators=500,max_depth=100, learning_rate=0.1).fit(fx_train,fy_train)"
   ]
  },
  {
   "cell_type": "code",
   "execution_count": null,
   "metadata": {},
   "outputs": [],
   "source": [
    "y = finalcf.predict_proba(fx_test)[:,1]"
   ]
  },
  {
   "cell_type": "code",
   "execution_count": 26,
   "metadata": {},
   "outputs": [
    {
     "name": "stdout",
     "output_type": "stream",
     "text": [
      "[LightGBM] [Warning] min_data_in_leaf is set=100, min_child_samples=20 will be ignored. Current value: min_data_in_leaf=100\n"
     ]
    }
   ],
   "source": [
    "#pipeline thing, didnt work\n",
    "newcf = lightgbm.LGBMClassifier(num_leaves=50,n_estimators=514,max_depth=90,min_data_in_leaf=100,\n",
    "                               extra_trees=True, metrics='auc') #done with best params\n",
    "clf = Pipeline([\n",
    "    ('feature_selection', SelectFromModel(RandomForestClassifier(n_estimators=105))),\n",
    "    ('classification', newcf)])\n",
    "clf.fit(fx_train, fy_train)\n",
    "# clf.score(x_test,y_test)\n",
    "y = clf.predict_proba(fx_test)[:,1]\n",
    "# score = metrics.roc_auc_score(y_test, y)\n",
    "# # score\n",
    "# print(\"training score \"+str(clf.score(x_train,y_train)))\n",
    "# print(\"test score \"+str(clf.score(x_test,y_test)))\n",
    "# print(\"AUC score \"+str(score))"
   ]
  },
  {
   "cell_type": "code",
   "execution_count": null,
   "metadata": {},
   "outputs": [],
   "source": [
    "pipe = make_pipeline(SelectFromModel(RandomForestClassifier(n_estimators=100)),newcf)\n",
    "pipe.fit(x_train, y_train)\n",
    "y_proba = pipe.predict_proba(x_test)[:,1]\n",
    "score = metrics.roc_auc_score(y_test, y_proba)\n",
    "print(\"training score \"+str(pipe.score(x_train,y_train)))\n",
    "print(\"test score \"+str(pipe.score(x_test,y_test)))\n",
    "print(\"AUC score \"+str(score))"
   ]
  },
  {
   "cell_type": "code",
   "execution_count": null,
   "metadata": {},
   "outputs": [],
   "source": [
    "newcf.fit(x_train,y_train)\n",
    "y_proba = newcf.predict_proba(x_test)[:,1]\n",
    "score = metrics.roc_auc_score(y_test, y_proba)\n",
    "print(\"training score \"+str(newcf.score(x_train,y_train)))\n",
    "print(\"test score \"+str(newcf.score(x_test,y_test)))\n",
    "print(\"AUC score \"+str(score))"
   ]
  },
  {
   "cell_type": "code",
   "execution_count": null,
   "metadata": {},
   "outputs": [],
   "source": [
    "y.shape\n",
    "y"
   ]
  },
  {
   "cell_type": "code",
   "execution_count": 27,
   "metadata": {},
   "outputs": [],
   "source": [
    "# making submission csv\n",
    "y_series = pd.Series(y,name='Y')\n",
    "x_series = test_data['Id']\n",
    "submit = pd.concat([x_series, y_series], axis=1)\n",
    "submit.to_csv('submission.csv',index=False)"
   ]
  },
  {
   "cell_type": "code",
   "execution_count": 16,
   "metadata": {},
   "outputs": [],
   "source": [
    "y_two = y_probaAda*0.5+y*0.5"
   ]
  },
  {
   "cell_type": "code",
   "execution_count": 28,
   "metadata": {},
   "outputs": [
    {
     "data": {
      "text/html": [
       "<div>\n",
       "<style scoped>\n",
       "    .dataframe tbody tr th:only-of-type {\n",
       "        vertical-align: middle;\n",
       "    }\n",
       "\n",
       "    .dataframe tbody tr th {\n",
       "        vertical-align: top;\n",
       "    }\n",
       "\n",
       "    .dataframe thead th {\n",
       "        text-align: right;\n",
       "    }\n",
       "</style>\n",
       "<table border=\"1\" class=\"dataframe\">\n",
       "  <thead>\n",
       "    <tr style=\"text-align: right;\">\n",
       "      <th></th>\n",
       "      <th>Id</th>\n",
       "      <th>Y</th>\n",
       "    </tr>\n",
       "  </thead>\n",
       "  <tbody>\n",
       "    <tr>\n",
       "      <th>0</th>\n",
       "      <td>16384</td>\n",
       "      <td>0.634027</td>\n",
       "    </tr>\n",
       "    <tr>\n",
       "      <th>1</th>\n",
       "      <td>16385</td>\n",
       "      <td>0.584985</td>\n",
       "    </tr>\n",
       "    <tr>\n",
       "      <th>2</th>\n",
       "      <td>16386</td>\n",
       "      <td>0.999444</td>\n",
       "    </tr>\n",
       "    <tr>\n",
       "      <th>3</th>\n",
       "      <td>16387</td>\n",
       "      <td>0.999439</td>\n",
       "    </tr>\n",
       "    <tr>\n",
       "      <th>4</th>\n",
       "      <td>16388</td>\n",
       "      <td>0.984394</td>\n",
       "    </tr>\n",
       "    <tr>\n",
       "      <th>...</th>\n",
       "      <td>...</td>\n",
       "      <td>...</td>\n",
       "    </tr>\n",
       "    <tr>\n",
       "      <th>16380</th>\n",
       "      <td>32764</td>\n",
       "      <td>0.999120</td>\n",
       "    </tr>\n",
       "    <tr>\n",
       "      <th>16381</th>\n",
       "      <td>32765</td>\n",
       "      <td>0.976231</td>\n",
       "    </tr>\n",
       "    <tr>\n",
       "      <th>16382</th>\n",
       "      <td>32766</td>\n",
       "      <td>0.999266</td>\n",
       "    </tr>\n",
       "    <tr>\n",
       "      <th>16383</th>\n",
       "      <td>32767</td>\n",
       "      <td>0.575460</td>\n",
       "    </tr>\n",
       "    <tr>\n",
       "      <th>16384</th>\n",
       "      <td>32768</td>\n",
       "      <td>0.660677</td>\n",
       "    </tr>\n",
       "  </tbody>\n",
       "</table>\n",
       "<p>16385 rows × 2 columns</p>\n",
       "</div>"
      ],
      "text/plain": [
       "          Id         Y\n",
       "0      16384  0.634027\n",
       "1      16385  0.584985\n",
       "2      16386  0.999444\n",
       "3      16387  0.999439\n",
       "4      16388  0.984394\n",
       "...      ...       ...\n",
       "16380  32764  0.999120\n",
       "16381  32765  0.976231\n",
       "16382  32766  0.999266\n",
       "16383  32767  0.575460\n",
       "16384  32768  0.660677\n",
       "\n",
       "[16385 rows x 2 columns]"
      ]
     },
     "execution_count": 28,
     "metadata": {},
     "output_type": "execute_result"
    }
   ],
   "source": [
    "submit"
   ]
  },
  {
   "cell_type": "code",
   "execution_count": 9,
   "metadata": {},
   "outputs": [
    {
     "data": {
      "text/plain": [
       "0.4715945476168695"
      ]
     },
     "execution_count": 9,
     "metadata": {},
     "output_type": "execute_result"
    }
   ],
   "source": [
    "svm = LinearSVC(C=0.0001)\n",
    "cl = CalibratedClassifierCV(svm)\n",
    "cl.fit(x_train, y_train)\n",
    "y_proba = cl.predict_proba(x_test)[:,1]\n",
    "score = metrics.roc_auc_score(y_test, y_proba)\n",
    "score"
   ]
  },
  {
   "cell_type": "code",
   "execution_count": 10,
   "metadata": {},
   "outputs": [
    {
     "data": {
      "text/plain": [
       "0.8596923995103485"
      ]
     },
     "execution_count": 10,
     "metadata": {},
     "output_type": "execute_result"
    }
   ],
   "source": [
    "lg = lightgbm.LGBMClassifier()\n",
    "lg.fit(x_train,y_train)\n",
    "y_proba = lg.predict_proba(x_test)[:,1]\n",
    "score = metrics.roc_auc_score(y_test, y_proba)\n",
    "score"
   ]
  },
  {
   "cell_type": "code",
   "execution_count": 11,
   "metadata": {},
   "outputs": [
    {
     "data": {
      "text/plain": [
       "0.866261745755845"
      ]
     },
     "execution_count": 11,
     "metadata": {},
     "output_type": "execute_result"
    }
   ],
   "source": [
    "lg = RandomForestClassifier()\n",
    "lg.fit(x_train,y_train)\n",
    "y_proba = lg.predict_proba(x_test)[:,1]\n",
    "score = metrics.roc_auc_score(y_test, y_proba)\n",
    "score"
   ]
  },
  {
   "cell_type": "code",
   "execution_count": 12,
   "metadata": {},
   "outputs": [
    {
     "data": {
      "text/plain": [
       "0.48591489472927585"
      ]
     },
     "execution_count": 12,
     "metadata": {},
     "output_type": "execute_result"
    }
   ],
   "source": [
    "lg = LogisticRegression()\n",
    "lg.fit(x_train,y_train)\n",
    "y_proba = lg.predict_proba(x_test)[:,1]\n",
    "score = metrics.roc_auc_score(y_test, y_proba)\n",
    "score"
   ]
  },
  {
   "cell_type": "code",
   "execution_count": null,
   "metadata": {},
   "outputs": [],
   "source": [
    "cfAda=AdaBoostClassifier()\n",
    "parameters = {'n_estimators': [10,20,30,40,50,60,70,80,90,100,200,500,1000], 'learning_rate': [0.01,0.1,0.5,1,3,5,10],\n",
    "             'algorithm': ['SAMME', 'SAMME.R']} \n",
    "clf_GS = RandomizedSearchCV(cfAda,parameters,n_iter=100,n_jobs=-1).fit(fx_train,fy_train)\n",
    "print(clf_GS.best_params_)\n",
    "yprob = clf_GS.predict_proba(fx_test)[:,1]\n",
    "# score = metrics.roc_auc_score(y_test, yprob)\n",
    "# score"
   ]
  },
  {
   "cell_type": "code",
   "execution_count": 11,
   "metadata": {},
   "outputs": [],
   "source": [
    "lg = AdaBoostClassifier(n_estimators=1000,algorithm='SAMME.R')\n",
    "lg.fit(fx_train,fy_train)\n",
    "y_probaAda = lg.predict_proba(fx_test)[:,1]\n",
    "# score = metrics.roc_auc_score(y_test, y_probaAda)\n",
    "# score"
   ]
  },
  {
   "cell_type": "code",
   "execution_count": null,
   "metadata": {},
   "outputs": [],
   "source": [
    "y_both = y_probaAda*0.5+y_proba*0.5\n",
    "score = metrics.roc_auc_score(y_test, y_both)\n",
    "score"
   ]
  },
  {
   "cell_type": "code",
   "execution_count": 13,
   "metadata": {},
   "outputs": [
    {
     "data": {
      "text/plain": [
       "0.6377586026634604"
      ]
     },
     "execution_count": 13,
     "metadata": {},
     "output_type": "execute_result"
    }
   ],
   "source": [
    "lg = KNeighborsClassifier(algorithm = 'brute', n_jobs=-1)\n",
    "lg.fit(x_train,y_train)\n",
    "y_proba = lg.predict_proba(x_test)[:,1]\n",
    "score = metrics.roc_auc_score(y_test, y_proba)\n",
    "score"
   ]
  },
  {
   "cell_type": "code",
   "execution_count": 14,
   "metadata": {},
   "outputs": [
    {
     "data": {
      "text/plain": [
       "0.6722068298548035"
      ]
     },
     "execution_count": 14,
     "metadata": {},
     "output_type": "execute_result"
    }
   ],
   "source": [
    "lg = DecisionTreeClassifier()\n",
    "lg.fit(x_train,y_train)\n",
    "y_proba = lg.predict_proba(x_test)[:,1]\n",
    "score = metrics.roc_auc_score(y_test, y_proba)\n",
    "score"
   ]
  },
  {
   "cell_type": "code",
   "execution_count": 12,
   "metadata": {},
   "outputs": [
    {
     "name": "stdout",
     "output_type": "stream",
     "text": [
      "[00:27:08] WARNING: C:/Users/Administrator/workspace/xgboost-win64_release_1.3.0/src/learner.cc:1061: Starting in XGBoost 1.3.0, the default evaluation metric used with the objective 'binary:logistic' was changed from 'error' to 'logloss'. Explicitly set eval_metric if you'd like to restore the old behavior.\n"
     ]
    }
   ],
   "source": [
    "model = xgboost.XGBClassifier(n_estimators=800,validate_parameters=True,booster='dart')\n",
    "model.fit(fx_train, fy_train)\n",
    "yx = model.predict(fx_test)\n",
    "# score = metrics.roc_auc_score(y_test, yx)\n",
    "# score"
   ]
  },
  {
   "cell_type": "code",
   "execution_count": null,
   "metadata": {},
   "outputs": [],
   "source": [
    "cfx=xgboost.XGBClassifier()\n",
    "parameters = {'booster': ['dart','gbtree'], 'n_estimators': [10,50,100,300,500,1000],'validate_parameters':[True], 'gamma':\n",
    "             [0,10,50,100,500], 'max_depth':[1,2,3,4,5,6,7,8,9,10], 'eta':[0.1,0.3,0.5,0.8]} \n",
    "clf_GS = RandomizedSearchCV(cfx,parameters,n_iter=100,n_jobs=-1).fit(x_train,y_train)\n",
    "print(clf_GS.best_params_)\n",
    "yprob = clf_GS.predict_proba(x_test)[:,1]\n",
    "score = metrics.roc_auc_score(y_test, yprob)\n",
    "score"
   ]
  },
  {
   "cell_type": "code",
   "execution_count": 13,
   "metadata": {},
   "outputs": [],
   "source": [
    "y_both = yx*(1/3)+y*(1/3)+(1/3)*y_probaAda #switch with yprob when above finishes\n",
    "# score = metrics.roc_auc_score(y_test, y_both)\n",
    "# score"
   ]
  },
  {
   "cell_type": "code",
   "execution_count": null,
   "metadata": {},
   "outputs": [],
   "source": []
  }
 ],
 "metadata": {
  "kernelspec": {
   "display_name": "Python 3",
   "language": "python",
   "name": "python3"
  },
  "language_info": {
   "codemirror_mode": {
    "name": "ipython",
    "version": 3
   },
   "file_extension": ".py",
   "mimetype": "text/x-python",
   "name": "python",
   "nbconvert_exporter": "python",
   "pygments_lexer": "ipython3",
   "version": "3.7.4"
  }
 },
 "nbformat": 4,
 "nbformat_minor": 2
}
